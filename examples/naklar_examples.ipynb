{
 "cells": [
  {
   "cell_type": "markdown",
   "metadata": {},
   "source": [
    "# THIS NOTEBOOK IS NOT QUITE FINISHED YET\n",
    "\n",
    "The aim is to illustrate the usage of `naklar`"
   ]
  },
  {
   "cell_type": "code",
   "execution_count": 18,
   "metadata": {
    "collapsed": false
   },
   "outputs": [],
   "source": [
    "# modified version of\n",
    "# http://scikit-learn.org/stable/auto_examples/svm/plot_iris.html#example-svm-plot-iris-py\n",
    "\n",
    "import os\n",
    "import pickle\n",
    "import itertools\n",
    "\n",
    "import numpy as np\n",
    "import matplotlib.pyplot as plt\n",
    "\n",
    "from sklearn import svm, datasets\n",
    "\n",
    "from naklar import experiment\n",
    "\n",
    "\n",
    "# import some data to play with\n",
    "iris = datasets.load_iris()\n",
    "X = iris.data[:, :2]  # we only take the first two features. We could\n",
    "                      # avoid this ugly slicing by using a two-dim dataset\n",
    "y = iris.target\n",
    "\n",
    "def evaluate_settings(i, output='results', **kwargs):\n",
    "    # run experiment\n",
    "    svc = svm.SVC(**kwargs).fit(X, y)\n",
    "    pred = svc.predict(X)\n",
    "    \n",
    "    # store results on disk\n",
    "    conf = kwargs\n",
    "    conf['results'] = pred # results is a NumPy array\n",
    "    if not os.path.exists(os.path.join('.', output, str(i))):\n",
    "        os.makedirs(os.path.join('.', output, str(i)))\n",
    "    conf['path'] = os.path.join(output, str(i))\n",
    "    with open(os.path.join(output, str(i), 'conf.pkl'), 'wb') as out:\n",
    "        pickle.dump(conf, out)\n",
    "    \n",
    "    # store the trained model as well\n",
    "    with open(os.path.join(output, str(i), 'svc.skl'), 'wb') as out:\n",
    "        pickle.dump(svc, out)\n"
   ]
  },
  {
   "cell_type": "code",
   "execution_count": 43,
   "metadata": {
    "collapsed": false
   },
   "outputs": [],
   "source": [
    "kernels = ['linear', 'rbf', 'poly']\n",
    "Cs = [0.001, 0.1, 1, 2]\n",
    "\n",
    "# could also use sklearn.cross_validation\n",
    "jobs = itertools.product(kernels, Cs)\n",
    "for i, (kernel, C) in enumerate(jobs):\n",
    "    evaluate_settings(i, kernel=kernel, C=C)\n",
    "\n",
    "experiment.initialise('results/', autoload=True)\n",
    "\n",
    "print(experiment.select())\n",
    "\n",
    "experiment.select(C=1)\n",
    "for exp in experiment.select(C=1):\n",
    "    print(exp.C, exp.kernel, exp.path)"
   ]
  }
 ],
 "metadata": {
  "kernelspec": {
   "display_name": "Python 3",
   "language": "python",
   "name": "python3"
  },
  "language_info": {
   "codemirror_mode": {
    "name": "ipython",
    "version": 3
   },
   "file_extension": ".py",
   "mimetype": "text/x-python",
   "name": "python",
   "nbconvert_exporter": "python",
   "pygments_lexer": "ipython3",
   "version": "3.4.3"
  }
 },
 "nbformat": 4,
 "nbformat_minor": 0
}
